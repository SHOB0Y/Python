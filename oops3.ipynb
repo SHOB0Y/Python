{
 "cells": [
  {
   "cell_type": "code",
   "execution_count": 18,
   "id": "f0dd3b83-a716-4e64-b330-b5d0c4f45663",
   "metadata": {},
   "outputs": [],
   "source": [
    "#Q1Abstraction is the process of hiding the internal details of an application from the outer world. \n",
    "import abc\n",
    "class parent:\n",
    "    @abc.abstractmethod\n",
    "    def voice(self,x):\n",
    "        pass\n",
    "class child(parent):\n",
    "    def voice(self,x):\n",
    "        print(\"crys\")\n",
    "class dog(parent):\n",
    "    def voice(self,x):\n",
    "        print(\"barks\")"
   ]
  },
  {
   "cell_type": "code",
   "execution_count": 19,
   "id": "baa6dfb7-7bc9-41c8-874d-872d23c40f9e",
   "metadata": {},
   "outputs": [],
   "source": [
    "chi=child()"
   ]
  },
  {
   "cell_type": "code",
   "execution_count": 20,
   "id": "950f1adc-a458-419d-b122-30f06b566081",
   "metadata": {},
   "outputs": [
    {
     "name": "stdout",
     "output_type": "stream",
     "text": [
      "crys\n"
     ]
    }
   ],
   "source": [
    "chi.voice(3)"
   ]
  },
  {
   "cell_type": "code",
   "execution_count": 6,
   "id": "1f55b4be-7e80-491c-82a0-1fe8b2af1dcd",
   "metadata": {},
   "outputs": [],
   "source": [
    "#Q2Abstraction is a way of representing some specific data. \n",
    "#Encapsulation is a way of hiding the complexity of something and exposing only the parts you wish to expose.\n",
    "import abc\n",
    "class parent:\n",
    "    #Abstraction\n",
    "    @abc.abstractmethod\n",
    "    def voice(self,x):\n",
    "        pass\n",
    "class child(parent):\n",
    "    def voice(self,x):\n",
    "        print(\"crys\")\n",
    "class dog(parent):\n",
    "    def __init__(self,animal,x):\n",
    "        #ENCAPSULATION\n",
    "        self.__animal=animal\n",
    "        self.x=x\n",
    "    def voice(self,x):\n",
    "        print(\"barks\")"
   ]
  },
  {
   "cell_type": "code",
   "execution_count": 25,
   "id": "116c3831-1335-437d-ae24-b275cf5434ef",
   "metadata": {},
   "outputs": [],
   "source": [
    "husky=dog(\"bro\",3)"
   ]
  },
  {
   "cell_type": "code",
   "execution_count": 27,
   "id": "d0a45926-52bc-4556-ac32-f63d330b90d1",
   "metadata": {},
   "outputs": [
    {
     "data": {
      "text/plain": [
       "'bro'"
      ]
     },
     "execution_count": 27,
     "metadata": {},
     "output_type": "execute_result"
    }
   ],
   "source": [
    "husky._dog__animal"
   ]
  },
  {
   "cell_type": "code",
   "execution_count": 1,
   "id": "bae8b4b4-1428-4cec-be53-e04c73b3a5c5",
   "metadata": {},
   "outputs": [],
   "source": [
    "#Q3The 'abc' module in Python library provides the infrastructure for defining custom abstract base classes. 'abc' works by marking methods of the base class as abstract. This is done by @absttractmethod decorator."
   ]
  },
  {
   "cell_type": "code",
   "execution_count": 3,
   "id": "262dbacc-2de6-4e25-b27d-5fc8d9003f50",
   "metadata": {},
   "outputs": [],
   "source": [
    "#Q4Data Abstraction in Python can be achieved through creating abstract classes and inheriting them later."
   ]
  },
  {
   "cell_type": "code",
   "execution_count": 10,
   "id": "486f4adb-be35-45cc-9d7d-05dfc1f284e9",
   "metadata": {},
   "outputs": [],
   "source": [
    "#Q5Abstract classes are not complete, as they may have some methods that are not defined. So we cannot create an instance or object of an abstract class in Python.\n"
   ]
  }
 ],
 "metadata": {
  "kernelspec": {
   "display_name": "Python 3 (ipykernel)",
   "language": "python",
   "name": "python3"
  },
  "language_info": {
   "codemirror_mode": {
    "name": "ipython",
    "version": 3
   },
   "file_extension": ".py",
   "mimetype": "text/x-python",
   "name": "python",
   "nbconvert_exporter": "python",
   "pygments_lexer": "ipython3",
   "version": "3.10.8"
  }
 },
 "nbformat": 4,
 "nbformat_minor": 5
}
