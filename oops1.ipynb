{
 "cells": [
  {
   "cell_type": "code",
   "execution_count": 3,
   "id": "2eb7ec3d-bfac-45fd-a97e-4752438e7000",
   "metadata": {},
   "outputs": [],
   "source": [
    "#Q1\n",
    "class vehicle:\n",
    "    def __init__(self,name_of_vehicle, max_speed,average_of_vehicle):\n",
    "        self.average_of_vehicle=average_of_vehicle\n",
    "        self.name_of_vehicle=name_of_vehicle\n",
    "        self. max_speed= max_speed\n"
   ]
  },
  {
   "cell_type": "code",
   "execution_count": 11,
   "id": "b17448cc-5288-44ae-a513-aa0058cb718f",
   "metadata": {},
   "outputs": [],
   "source": [
    "#Q2\n",
    "class car(vehicle):\n",
    "    def seating_capacity(self, capacity):\n",
    "        return self.name_of_vehicle,capacity"
   ]
  },
  {
   "cell_type": "code",
   "execution_count": 18,
   "id": "df042f0e-8dd3-454c-8d53-d983ec70aacb",
   "metadata": {},
   "outputs": [
    {
     "data": {
      "text/plain": [
       "('SUV', 7)"
      ]
     },
     "execution_count": 18,
     "metadata": {},
     "output_type": "execute_result"
    }
   ],
   "source": [
    "toyota=car(\"SUV\",150,50)\n",
    "toyota.seating_capacity(7)"
   ]
  },
  {
   "cell_type": "code",
   "execution_count": 19,
   "id": "556e887e-09ae-418c-9adb-842f843fc5d9",
   "metadata": {},
   "outputs": [],
   "source": [
    "#Q3 Multiple inheritance is inheriting properties of 2 or more classes\n",
    "class mother:\n",
    "    def mom(self):\n",
    "        print(\"I am mpom\")\n",
    "class father:\n",
    "    def dad(self):\n",
    "        print(\"I am dad\")\n",
    "class son(mother,father):\n",
    "    pass"
   ]
  },
  {
   "cell_type": "code",
   "execution_count": 22,
   "id": "b9fc0cec-0e5c-4bd1-bbe3-06ac9f1d3c46",
   "metadata": {},
   "outputs": [
    {
     "name": "stdout",
     "output_type": "stream",
     "text": [
      "I am dad\n",
      "I am mpom\n"
     ]
    }
   ],
   "source": [
    "me=son()\n",
    "me.dad()\n",
    "me.mom()"
   ]
  },
  {
   "cell_type": "code",
   "execution_count": 35,
   "id": "fd0c7aaf-08ff-44c5-aef7-2e66a93a1358",
   "metadata": {},
   "outputs": [
    {
     "name": "stdout",
     "output_type": "stream",
     "text": [
      "887082\n"
     ]
    }
   ],
   "source": [
    "#Q4 getters are getting the value of a variable and setters are for setting the value of variable\n",
    "class gas:\n",
    "    def __init__(self ,name,mobileno):\n",
    "        self.name=name\n",
    "        self.mobileno=mobileno\n",
    "    def set_mobileno(self,mobilno):\n",
    "        self.mobileno=mobilno\n",
    "    def get_mobileno(self):\n",
    "        return self.mobileno\n",
    "gg=gas(\"rohan\",969645)\n",
    "gg.set_mobileno(887082)\n",
    "print(gg.get_mobileno())"
   ]
  },
  {
   "cell_type": "code",
   "execution_count": 38,
   "id": "337ac690-404f-425f-9ddb-47360e205d34",
   "metadata": {},
   "outputs": [],
   "source": [
    "#Q5 Method overriding is an ability of any object-oriented programming language that allows a subclass or child class to provide a specific implementation of a method that is already provided by one of its parent classes.\n",
    "class over:\n",
    "    def hey():\n",
    "        print(\"Hello\")\n",
    "class ride(over):\n",
    "    def hey():\n",
    "        print(\"hi\")\n",
    "h"
   ]
  },
  {
   "cell_type": "code",
   "execution_count": null,
   "id": "88aefd6b-8648-4d9e-94f0-45f6f136204b",
   "metadata": {},
   "outputs": [],
   "source": []
  }
 ],
 "metadata": {
  "kernelspec": {
   "display_name": "Python 3 (ipykernel)",
   "language": "python",
   "name": "python3"
  },
  "language_info": {
   "codemirror_mode": {
    "name": "ipython",
    "version": 3
   },
   "file_extension": ".py",
   "mimetype": "text/x-python",
   "name": "python",
   "nbconvert_exporter": "python",
   "pygments_lexer": "ipython3",
   "version": "3.10.8"
  }
 },
 "nbformat": 4,
 "nbformat_minor": 5
}
