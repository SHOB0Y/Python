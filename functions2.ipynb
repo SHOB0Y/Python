{
 "cells": [
  {
   "cell_type": "code",
   "execution_count": 20,
   "id": "95d46e4a-b03c-4f39-bc6a-8c41a2ba16cd",
   "metadata": {},
   "outputs": [],
   "source": [
    "#Q1\n",
    "l=[('Sachin Tendulkar', 34357), ('Ricky Ponting', 27483), ('Jack Kallis', 25534), ('Virat Kohli', 24936)]"
   ]
  },
  {
   "cell_type": "code",
   "execution_count": 21,
   "id": "6cf0ac7c-9d52-4942-bced-efdcf55043d7",
   "metadata": {},
   "outputs": [
    {
     "data": {
      "text/plain": [
       "[('Virat Kohli', 24936),\n",
       " ('Jack Kallis', 25534),\n",
       " ('Ricky Ponting', 27483),\n",
       " ('Sachin Tendulkar', 34357)]"
      ]
     },
     "execution_count": 21,
     "metadata": {},
     "output_type": "execute_result"
    }
   ],
   "source": [
    "sorted(l,key= lambda x:x[1])"
   ]
  },
  {
   "cell_type": "code",
   "execution_count": 22,
   "id": "07982a2a-6497-4f2c-afeb-3256df81597c",
   "metadata": {},
   "outputs": [
    {
     "data": {
      "text/plain": [
       "[1, 4, 9, 16, 25, 36, 49, 64, 81, 100]"
      ]
     },
     "execution_count": 22,
     "metadata": {},
     "output_type": "execute_result"
    }
   ],
   "source": [
    "#Q2\n",
    "ll=[1, 2, 3, 4, 5, 6, 7, 8, 9, 10]\n",
    "list(map(lambda x:x**2,ll))"
   ]
  },
  {
   "cell_type": "code",
   "execution_count": 23,
   "id": "721f9378-f21c-4045-9115-b252d15acce2",
   "metadata": {},
   "outputs": [
    {
     "data": {
      "text/plain": [
       "('1', '2', '3', '4', '5', '6', '7', '8', '9', '10')"
      ]
     },
     "execution_count": 23,
     "metadata": {},
     "output_type": "execute_result"
    }
   ],
   "source": [
    "#Q3\n",
    "ls=[1, 2, 3, 4, 5, 6, 7, 8, 9, 10]\n",
    "tuple(map(lambda x:str(x),ls))"
   ]
  },
  {
   "cell_type": "code",
   "execution_count": 24,
   "id": "b65cae30-3312-4953-93f2-253fceffe843",
   "metadata": {},
   "outputs": [
    {
     "data": {
      "text/plain": [
       "15511210043330985984000000"
      ]
     },
     "execution_count": 24,
     "metadata": {},
     "output_type": "execute_result"
    }
   ],
   "source": [
    "#Q4\n",
    "from functools import reduce\n",
    "twf=[1,2,3,4,5,6,7,8,9,10,11,12,13,14,15,16,17,18,19,20,21,22,23,24,25]\n",
    "reduce(lambda x,y:x*y,twf)"
   ]
  },
  {
   "cell_type": "code",
   "execution_count": 25,
   "id": "1262c500-f015-4017-ba67-912ae8692078",
   "metadata": {},
   "outputs": [
    {
     "data": {
      "text/plain": [
       "[6, 60, 90, 120]"
      ]
     },
     "execution_count": 25,
     "metadata": {},
     "output_type": "execute_result"
    }
   ],
   "source": [
    "#Q5\n",
    "tat=[2, 3, 6, 9, 27, 60, 90, 120, 55, 46]\n",
    "list(filter(lambda x:x%2==0 and x%3==0,tat))"
   ]
  },
  {
   "cell_type": "code",
   "execution_count": 26,
   "id": "2fe822c5-0df8-4b29-8c18-c541e52dd0d2",
   "metadata": {},
   "outputs": [
    {
     "data": {
      "text/plain": [
       "['php', 'aba', 'radar', 'level']"
      ]
     },
     "execution_count": 26,
     "metadata": {},
     "output_type": "execute_result"
    }
   ],
   "source": [
    "#Q6\n",
    "pali=['python', 'php', 'aba', 'radar', 'level']\n",
    "list(filter(lambda x:x[::]==x[::-1],pali))"
   ]
  },
  {
   "cell_type": "code",
   "execution_count": null,
   "id": "2ab1f642-9aa0-45fc-b124-0b083c3b6990",
   "metadata": {},
   "outputs": [],
   "source": []
  }
 ],
 "metadata": {
  "kernelspec": {
   "display_name": "Python 3 (ipykernel)",
   "language": "python",
   "name": "python3"
  },
  "language_info": {
   "codemirror_mode": {
    "name": "ipython",
    "version": 3
   },
   "file_extension": ".py",
   "mimetype": "text/x-python",
   "name": "python",
   "nbconvert_exporter": "python",
   "pygments_lexer": "ipython3",
   "version": "3.10.8"
  }
 },
 "nbformat": 4,
 "nbformat_minor": 5
}
