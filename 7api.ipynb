{
 "cells": [
  {
   "cell_type": "code",
   "execution_count": 3,
   "id": "71f99bc3-12b5-4fdd-be24-1c010fa31db3",
   "metadata": {},
   "outputs": [],
   "source": [
    "#Q1)An application programming interface is a way for two or more computer programs to communicate with each other. It is a type of software interface, offering a service to other pieces of software.\n",
    "# every time a search is performed on Google an API connects to a server somewhere to send back the answer in real-time."
   ]
  },
  {
   "cell_type": "code",
   "execution_count": 2,
   "id": "d47831c7-f5fd-4584-a00e-c7c9cf6f15b9",
   "metadata": {},
   "outputs": [],
   "source": [
    "#Q2) ADVANTAGES OF API: accessing and consuming data and services from thousands of independent sources. This means organizations of all sizes can access these functionalities without developing their own specialized applications.\n",
    "#DISADVANTAGES OF API:security concerns, complexity, compatibility issues, dependency on third-party developers, and governance and management issues."
   ]
  },
  {
   "cell_type": "code",
   "execution_count": 4,
   "id": "274dbf49-908a-4284-84a0-3f7a42da548b",
   "metadata": {},
   "outputs": [],
   "source": [
    "#Q3) Web api is an API over the web which can be accessed using HTTP protocol and  application programming interface for either a web server or a web browser.\n",
    "#the  difference between API and Web API is that API is a general term for any interface that allows software components to communicate with each other, while Web API specifically refers to APIs exposed over the web using standard web protocols like HTTP. Web APIs are a subset of the larger category of APIs and are commonly used for web services and web-based application integrations."
   ]
  },
  {
   "cell_type": "code",
   "execution_count": 6,
   "id": "b0e37ce2-b185-4949-8c7e-9cb24c841c4d",
   "metadata": {},
   "outputs": [],
   "source": [
    "#Q4) REST:REST stands for REpresentational State Transfer. REST is a software architectural style that defines the set of rules to be used for creating web services. Web services which follow the REST architectural style are known as RESTful web services. It allows requesting systems to access and manipulate web resources by using a uniform and predefined set of rules. Interaction in REST based systems happen through Internet’s Hypertext Transfer Protocol (HTTP)\n",
    "#SOAP ARCHITECTURE:SOAP stands for Simple Object Access Protocol.SOAP is a protocol for the exchange of information in a distributed environment. SOAP messages are encoded as XML documents and can be exchanged using various underlying protocols.\n",
    "#SHORTCOMINGS OF SOAP ARCHITECTURE:SOAP is used only XML format data in web service, whereas JSON and other lightweight formats are not supported by it. It is slow because it uses XML format, whereas the payload for a simple string message is large. There are no security features in the SOAP specification."
   ]
  },
  {
   "cell_type": "code",
   "execution_count": null,
   "id": "015a7b01-f3f3-447e-95d6-58c6fe95c0f0",
   "metadata": {},
   "outputs": [],
   "source": [
    "#Q5) Since SOAP is a protocol, it follows a strict standard to allow communication between the client and the server whereas REST is an architectural style that doesn’t follow any strict standard but follows six constraints defined by Roy Fielding in 2000. Those constraints are – Uniform Interface, Client-Server, Stateless, Cacheable, Layered System, Code on Demand.\n",
    "#SOAP uses only XML for exchanging information in its message format whereas REST is not restricted to XML and its the choice of implementer which Media-Type to use like XML, JSON, Plain-text. Moreover, REST can use SOAP protocol but SOAP cannot use REST.\n",
    "#SOAP is difficult to implement and it requires more bandwidth whereas REST is easy to implement and requires less bandwidth such as smartphones."
   ]
  }
 ],
 "metadata": {
  "kernelspec": {
   "display_name": "Python 3 (ipykernel)",
   "language": "python",
   "name": "python3"
  },
  "language_info": {
   "codemirror_mode": {
    "name": "ipython",
    "version": 3
   },
   "file_extension": ".py",
   "mimetype": "text/x-python",
   "name": "python",
   "nbconvert_exporter": "python",
   "pygments_lexer": "ipython3",
   "version": "3.10.8"
  }
 },
 "nbformat": 4,
 "nbformat_minor": 5
}
