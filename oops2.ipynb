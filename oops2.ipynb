{
 "cells": [
  {
   "cell_type": "code",
   "execution_count": 1,
   "id": "d3d49e97-d65e-478f-9785-069ce0f8b185",
   "metadata": {},
   "outputs": [],
   "source": [
    "#Q1 A Class in object oriented programming is a blueprint or prototype that defines the variables and the methods \n",
    "#An object is an instance of a class\n",
    "#Eg of class to calculate\n",
    "class calculate:\n",
    "    def add(self,x,y):\n",
    "        return x+y\n",
    "    def sub(self,x,y):\n",
    "        return x-y"
   ]
  },
  {
   "cell_type": "code",
   "execution_count": 4,
   "id": "1e12995a-d003-499d-9efd-17ec710f5c64",
   "metadata": {},
   "outputs": [
    {
     "data": {
      "text/plain": [
       "6"
      ]
     },
     "execution_count": 4,
     "metadata": {},
     "output_type": "execute_result"
    }
   ],
   "source": [
    "#eg of object of class calculate\n",
    "hi=calculate()\n",
    "hi.add(2,4)"
   ]
  },
  {
   "cell_type": "code",
   "execution_count": 6,
   "id": "f88419e0-3940-489a-91cd-7db8b9edb353",
   "metadata": {},
   "outputs": [],
   "source": [
    "#Q2The Four Pillars of Object Oriented Programming\n",
    "#Abstraction.\n",
    "#Encapsulation.\n",
    "#Inheritance.\n",
    "#Polymorphism."
   ]
  },
  {
   "cell_type": "code",
   "execution_count": 7,
   "id": "e78cf53d-2b02-482c-8d77-1a61d53a7345",
   "metadata": {},
   "outputs": [],
   "source": [
    "#Q3 The __init__ method lets the class initialize the object's attributes\n",
    "class init:\n",
    "    def __init__(self,name):\n",
    "        self.name=name\n",
    "    def sayname(self):\n",
    "        print(self.name)"
   ]
  },
  {
   "cell_type": "code",
   "execution_count": 10,
   "id": "6b380de3-7f07-4293-bf88-75c2fb9aadd6",
   "metadata": {},
   "outputs": [],
   "source": [
    "hu=init(\"sho\")"
   ]
  },
  {
   "cell_type": "code",
   "execution_count": 11,
   "id": "1353bd46-55c2-490e-9ba0-91165310fa5f",
   "metadata": {},
   "outputs": [],
   "source": [
    "#Q4 The self variable is used to represent the instance of the class "
   ]
  },
  {
   "cell_type": "code",
   "execution_count": 19,
   "id": "adbab08a-8865-4522-9b30-84898fa47144",
   "metadata": {},
   "outputs": [
    {
     "name": "stdout",
     "output_type": "stream",
     "text": [
      "color is yellow\n",
      "fire is hot\n"
     ]
    }
   ],
   "source": [
    "#Q5  Inheritance is a mechanism in which one class acquires the property of another class. \n",
    "#1 Single level inheritance\n",
    "class fire:\n",
    "    def color(self):\n",
    "        print(\"color is yellow\")\n",
    "    \n",
    "class fuel(fire):\n",
    "    def temp(self):\n",
    "        print(\"fire is hot\")\n",
    "petrol=fuel()\n",
    "petrol.color()\n",
    "petrol.temp()"
   ]
  },
  {
   "cell_type": "code",
   "execution_count": 25,
   "id": "519eb683-c234-4805-97b4-13900eeb71f5",
   "metadata": {},
   "outputs": [
    {
     "name": "stdout",
     "output_type": "stream",
     "text": [
      "color is yellow\n",
      "fire is hot\n",
      "fuel is used in car\n"
     ]
    }
   ],
   "source": [
    "#2Multilevel inheritance:having intermideate class between 2 classes\n",
    "class use(fuel):\n",
    "    def car(self):\n",
    "        print(\"fuel is used in car\")\n",
    "honda=use()\n",
    "honda.color()\n",
    "honda.temp()\n",
    "honda.car()"
   ]
  },
  {
   "cell_type": "code",
   "execution_count": 31,
   "id": "4235395a-536e-47e0-a9fe-4f819578fa26",
   "metadata": {},
   "outputs": [
    {
     "name": "stdout",
     "output_type": "stream",
     "text": [
      "eye is blue\n",
      "eye is brown\n",
      "Eye is black\n"
     ]
    }
   ],
   "source": [
    "#3Multiple inheritance: inheriting properties of 2 or more classes in child class\n",
    "class father():\n",
    "    def eye(self):\n",
    "        print(\"eye is blue\")\n",
    "class mother():\n",
    "    def eyes(self):\n",
    "        print(\"eye is brown\")\n",
    "class son(father,mother):\n",
    "    def eyee(self):\n",
    "        print(\"Eye is black\")\n",
    "        \n",
    "ram=son()\n",
    "ram.eye()\n",
    "ram.eyes()\n",
    "ram.eyee()"
   ]
  },
  {
   "cell_type": "code",
   "execution_count": 35,
   "id": "a58af04d-0c12-4e4f-bfd1-15f42afb49ca",
   "metadata": {},
   "outputs": [
    {
     "name": "stdout",
     "output_type": "stream",
     "text": [
      "It is closed\n",
      "It has 3 sides\n"
     ]
    }
   ],
   "source": [
    "#4 Hierarchial inheritance: different child classes inherit properties of same parent\n",
    "class shape():\n",
    "    def sha(self):\n",
    "        print(\"It is closed\")\n",
    "class circle(shape):\n",
    "    def sham(self):\n",
    "        print(\"It is round\")\n",
    "class square(shape):\n",
    "    def sham(self):\n",
    "        print(\"It has 4 sides\")\n",
    "class triangle(shape):\n",
    "    def sham(self):\n",
    "        print(\"It has 3 sides\")\n",
    "tri=triangle()\n",
    "tri.sha()\n",
    "tri.sham()"
   ]
  },
  {
   "cell_type": "code",
   "execution_count": 42,
   "id": "72f6c553-9f8d-4b81-be36-67d470213c66",
   "metadata": {},
   "outputs": [
    {
     "name": "stdout",
     "output_type": "stream",
     "text": [
      "studies good\n"
     ]
    }
   ],
   "source": [
    "#5 Hybrid inheritance:inheirtance consisting of multiple types of inheritance\n",
    "class principal:\n",
    "    def pos(self):\n",
    "        print(\"highest position\")\n",
    "class teacher(principal):\n",
    "    def duty(self):\n",
    "        print(\"Teaches\")\n",
    "class student1(teacher):\n",
    "    def study(self):\n",
    "        print(\"studies good\")\n",
    "class student2(teacher):\n",
    "    def study(self):\n",
    "        print(\"studies bad\")\n",
    "ramu=student1()\n",
    "ramu.study()"
   ]
  },
  {
   "cell_type": "code",
   "execution_count": null,
   "id": "4e21b957-2868-4a73-a07f-1ff62bfe6ab5",
   "metadata": {},
   "outputs": [],
   "source": []
  }
 ],
 "metadata": {
  "kernelspec": {
   "display_name": "Python 3 (ipykernel)",
   "language": "python",
   "name": "python3"
  },
  "language_info": {
   "codemirror_mode": {
    "name": "ipython",
    "version": 3
   },
   "file_extension": ".py",
   "mimetype": "text/x-python",
   "name": "python",
   "nbconvert_exporter": "python",
   "pygments_lexer": "ipython3",
   "version": "3.10.8"
  }
 },
 "nbformat": 4,
 "nbformat_minor": 5
}
