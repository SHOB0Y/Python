{
 "cells": [
  {
   "cell_type": "code",
   "execution_count": 1,
   "id": "74ae4456-d8b4-46ae-930c-40ec74c5a2b4",
   "metadata": {},
   "outputs": [],
   "source": [
    "#Q1) A database is an organized collection of structured information, or data, typically stored electronically in a computer system.\n",
    "#SQL databases are relational, and NoSQL databases are non-relational. SQL databases use structured query language (SQL) and have a predefined schema. NoSQL databases have dynamic schemas for unstructured data. SQL databases are vertically scalable, while NoSQL databases are horizontally scalable."
   ]
  },
  {
   "cell_type": "code",
   "execution_count": null,
   "id": "88facd03-db13-4618-87c9-f6638464e0c2",
   "metadata": {},
   "outputs": [],
   "source": [
    "\"\"\"\n",
    "Q2) data definition language is a syntax for creating and modifying database objects such as tables, indices, and users\n",
    "CREATE:The CREATE TABLE command creates a new table in the database.\n",
    "CREATE TABLE Persons (\n",
    "    PersonID int,\n",
    "   LastName varchar(255),\n",
    "    FirstName varchar(255),\n",
    "    Address varchar(255),\n",
    "    City varchar(255)\n",
    ");\n",
    "\n",
    "The DROP TABLE command deletes a table in the database.\n",
    "DROP TABLE Shippers;\n",
    "\n",
    "ALTER TABLE\n",
    "The ALTER TABLE command adds, deletes, or modifies columns in a table.The ALTER TABLE command also adds and deletes various constraints in a table\n",
    "ALTER TABLE Customers\n",
    "DROP COLUMN Email;\n",
    "\n",
    "The TRUNCATE TABLE command deletes the data inside a table, but not the table itself.\n",
    "TRUNCATE TABLE Categories;\n"
   ]
  },
  {
   "cell_type": "code",
   "execution_count": null,
   "id": "5900871a-25ad-4122-9a41-4cf3644077d9",
   "metadata": {},
   "outputs": [],
   "source": [
    "\"\"\"\n",
    "Q3)A data manipulation language is a computer programming language used for adding, deleting, and modifying data in a database.\n",
    "\n",
    "The INSERT INTO command is used to insert new rows in a table.\n",
    "INSERT INTO Customers (CustomerName, ContactName, Address, City, PostalCode, Country)\n",
    "VALUES ('Cardinal', 'Tom B. Erichsen', 'Skagen 21', 'Stavanger', '4006', 'Norway');\n",
    "\n",
    "The UPDATE command is used to update existing rows in a table.\n",
    "UPDATE Customers\n",
    "SET ContactName = 'Alfred Schmidt', City= 'Frankfurt'\n",
    "WHERE CustomerID = 1;\n",
    "\n",
    "The DELETE command is used to delete existing records in a table.\n",
    "DELETE FROM Customers WHERE CustomerName='Alfreds Futterkiste';"
   ]
  },
  {
   "cell_type": "code",
   "execution_count": null,
   "id": "a3f47c8c-b83e-45a4-abce-00ca3053b7bf",
   "metadata": {},
   "outputs": [],
   "source": [
    "\"\"\"\n",
    "Q4) Data Query Languages, are computer languages that are used to make various queries in information systems and databases.\n",
    "The SELECT command is used to select data from a database. The data returned is stored in a result table, called the result set.\n",
    "SELECT CustomerName, City FROM Customers;"
   ]
  },
  {
   "cell_type": "code",
   "execution_count": null,
   "id": "c4c162c9-b130-44d7-8882-10d996d32e70",
   "metadata": {},
   "outputs": [],
   "source": [
    "\"\"\"\n",
    "Q5)A primary key is used to ensure data in the specific column is unique. A foreign key is a column or group of columns in a relational database table that provides a link between data in two tables"
   ]
  },
  {
   "cell_type": "code",
   "execution_count": null,
   "id": "44f07708-e780-4a4d-bf97-41ac48594294",
   "metadata": {},
   "outputs": [],
   "source": [
    "\"\"\"\n",
    "Q6) import mysql.connector\n",
    "\n",
    "mydb = mysql.connector.connect(\n",
    "  host=\"localhost\",\n",
    "  user=\"yourusername\",\n",
    "  password=\"yourpassword\"\n",
    ")\n",
    "\n",
    "print(mydb)\n",
    "\n",
    "Cursor():A database cursor is an identifier associated with a group of rows. It is, in a sense, a pointer to the current row in a buffer. You must use a cursor in the following cases: Statements that return more than one row of data from the database server: A SELECT statement requires a select cursor.\n",
    "\n",
    "execute():The execute() method: This method is used to execute SQL DDL statements, it returns a boolean value specifying weather the ResultSet object can be retrieved\n"
   ]
  },
  {
   "cell_type": "code",
   "execution_count": null,
   "id": "ea6d3172-41bb-4194-bd3d-c7e5f47789ae",
   "metadata": {},
   "outputs": [],
   "source": [
    "\"\"\"\n",
    "Q7) The order in which the clauses in queries are executed is as follows:\n",
    "\n",
    "1. FROM/JOIN: The FROM and/or JOIN clauses are executed first to determine the data of interest.\n",
    "\n",
    "2. WHERE: The WHERE clause is executed to filter out records that do not meet the constraints.\n",
    "\n",
    "3. GROUP BY: The GROUP BY clause is executed to group the data based on the values in one or more columns.\n",
    "\n",
    "4. HAVING: The HAVING clause is executed to remove the created grouped records that don’t meet the constraints.\n",
    "\n",
    "5. SELECT: The SELECT clause is executed to derive all desired columns and expressions.\n",
    "\n",
    "6. ORDER BY: The ORDER BY clause is executed to sort the derived values in ascending or descending order.\n",
    "\n",
    "7.LIMIT/OFFSET: these clauses are executed to keep or skip certain no. of rows"
   ]
  }
 ],
 "metadata": {
  "kernelspec": {
   "display_name": "Python 3 (ipykernel)",
   "language": "python",
   "name": "python3"
  },
  "language_info": {
   "codemirror_mode": {
    "name": "ipython",
    "version": 3
   },
   "file_extension": ".py",
   "mimetype": "text/x-python",
   "name": "python",
   "nbconvert_exporter": "python",
   "pygments_lexer": "ipython3",
   "version": "3.10.8"
  }
 },
 "nbformat": 4,
 "nbformat_minor": 5
}
