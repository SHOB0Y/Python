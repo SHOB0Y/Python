{
 "cells": [
  {
   "cell_type": "code",
   "execution_count": 2,
   "id": "c973d911-f4c9-45b3-a2e7-3c0865eb3797",
   "metadata": {},
   "outputs": [],
   "source": [
    "#Q1 The def keyword is used to create functions\n",
    "def odd():\n",
    "    l1=[]\n",
    "    for i in range(1,26):\n",
    "        if i%2!=0:\n",
    "            l1.append(i)\n",
    "    return l1"
   ]
  },
  {
   "cell_type": "code",
   "execution_count": 3,
   "id": "a88c3d76-678b-4828-a669-67adc9a78528",
   "metadata": {},
   "outputs": [
    {
     "data": {
      "text/plain": [
       "[1, 3, 5, 7, 9, 11, 13, 15, 17, 19, 21, 23, 25]"
      ]
     },
     "execution_count": 3,
     "metadata": {},
     "output_type": "execute_result"
    }
   ],
   "source": [
    "odd()"
   ]
  },
  {
   "cell_type": "code",
   "execution_count": 12,
   "id": "01243bd3-ce1c-4127-bf40-e7a889229216",
   "metadata": {},
   "outputs": [],
   "source": [
    "#Q2 *args and **kwargs can be used if the no. of arguments is unknown\n",
    "#*args can be used for linear arguments\n",
    "def add(*args):\n",
    "    sum=0\n",
    "    for i in args:\n",
    "        sum=sum+i\n",
    "    return sum\n",
    "        "
   ]
  },
  {
   "cell_type": "code",
   "execution_count": 14,
   "id": "b0b5da21-ddb2-4c52-a6f4-6ec3a22fd7ff",
   "metadata": {},
   "outputs": [
    {
     "data": {
      "text/plain": [
       "6"
      ]
     },
     "execution_count": 14,
     "metadata": {},
     "output_type": "execute_result"
    }
   ],
   "source": [
    "add(1,2,3)"
   ]
  },
  {
   "cell_type": "code",
   "execution_count": 32,
   "id": "3c0e1175-bd92-4b09-8231-3cd156dd07b6",
   "metadata": {},
   "outputs": [],
   "source": [
    "def adde(**kwargs):\n",
    "    sum=0\n",
    "    for i in kwargs.values():\n",
    "        sum=sum+i\n",
    "    return sum"
   ]
  },
  {
   "cell_type": "code",
   "execution_count": 33,
   "id": "424fbe60-5bdd-4b82-8afe-b8f29c3fd7ac",
   "metadata": {},
   "outputs": [
    {
     "data": {
      "text/plain": [
       "5"
      ]
     },
     "execution_count": 33,
     "metadata": {},
     "output_type": "execute_result"
    }
   ],
   "source": [
    "adde(apple=2,banana=3)"
   ]
  },
  {
   "cell_type": "code",
   "execution_count": 44,
   "id": "14064839-4548-4177-a10a-1aea3f927c13",
   "metadata": {},
   "outputs": [
    {
     "name": "stdout",
     "output_type": "stream",
     "text": [
      "2\n",
      "4\n",
      "6\n",
      "8\n",
      "10\n"
     ]
    }
   ],
   "source": [
    "#Q3 An iterator is an object that contains a countable number of values. An iterator is an object that can be iterated upon, meaning that you can traverse through all the values.\n",
    "#the iter() method can be used to initialise an iterable object\n",
    "#and the next() method can be used for iteration\n",
    "l=[2, 4, 6, 8, 10, 12, 14,16, 18, 20]\n",
    "ll=iter(l)\n",
    "for i in range(5):\n",
    " print(next(ll))"
   ]
  },
  {
   "cell_type": "code",
   "execution_count": 69,
   "id": "b4ed1005-ac89-48d4-a599-a7a549c488b6",
   "metadata": {},
   "outputs": [
    {
     "data": {
      "text/plain": [
       "2"
      ]
     },
     "execution_count": 69,
     "metadata": {},
     "output_type": "execute_result"
    }
   ],
   "source": [
    "#Q4 A Python generator function allows you to declare a function that behaves like an iterator, providing a faster and easier way to create iterators. They can be used on an abstract container of data to turn it into an iterable object like lists, dictionaries and strings.  \n",
    "#Yield is used instead of return keyword.yield statement is responsible for controlling the flow of the generator function. It pauses the function execution by saving all states and yielded to the caller.\n",
    "def gen():\n",
    "    for i in range (5):\n",
    "        yield i\n",
    "hey=gen()\n",
    "next(hey)\n",
    "next(hey)\n",
    "next(hey)"
   ]
  },
  {
   "cell_type": "code",
   "execution_count": 68,
   "id": "42e044f3-d988-46cd-8b49-1327127c6380",
   "metadata": {},
   "outputs": [
    {
     "name": "stdout",
     "output_type": "stream",
     "text": [
      "1\n",
      "2\n",
      "3\n",
      "5\n",
      "7\n",
      "11\n",
      "13\n",
      "17\n",
      "19\n",
      "23\n",
      "29\n",
      "31\n",
      "37\n",
      "41\n",
      "43\n",
      "47\n",
      "53\n",
      "59\n",
      "61\n",
      "67\n"
     ]
    }
   ],
   "source": [
    "#Q5\n",
    "def prime():\n",
    "    for i in range(1,1000):\n",
    "      is_prime=False\n",
    "      for j in range(2,i):\n",
    "           if i%j==0 and i!=j:\n",
    "             is_prime=True\n",
    "             break\n",
    "      if is_prime==False:\n",
    "         yield i\n",
    "hee=prime()\n",
    "for i in range(20):\n",
    "    print(next(hee))"
   ]
  },
  {
   "cell_type": "code",
   "execution_count": 67,
   "id": "d7819676-99d3-4f31-8fdb-2b7cfab5ca2f",
   "metadata": {},
   "outputs": [
    {
     "name": "stdout",
     "output_type": "stream",
     "text": [
      "0\n",
      "1\n",
      "1\n",
      "2\n",
      "3\n",
      "5\n",
      "8\n",
      "13\n",
      "21\n",
      "34\n"
     ]
    }
   ],
   "source": [
    "#Q6\n",
    "count=0\n",
    "a,b=0,1\n",
    "while count<10:\n",
    "    if count==0:\n",
    "        print(count)\n",
    "        count+=1\n",
    "    elif count==1:\n",
    "        print(count)\n",
    "        count+=1\n",
    "    else:\n",
    "        c=a+b\n",
    "        print(c)\n",
    "        a=b\n",
    "        b=c\n",
    "        count+=1\n",
    "    "
   ]
  },
  {
   "cell_type": "code",
   "execution_count": 66,
   "id": "f6530c3f-6cea-4833-a8f6-38b9b7f886bc",
   "metadata": {},
   "outputs": [
    {
     "name": "stdout",
     "output_type": "stream",
     "text": [
      "['p', 'w', 's', 'k', 'i', 'l', 'l', 's']\n"
     ]
    }
   ],
   "source": [
    "#Q7\n",
    "pw=\"pwskills\"\n",
    "lp=[]\n",
    "for i in pw:\n",
    "    lp.append(i)\n",
    "print(lp)"
   ]
  },
  {
   "cell_type": "code",
   "execution_count": 91,
   "id": "092da72a-658d-4eca-aafa-05e5f8fcfd8e",
   "metadata": {},
   "outputs": [
    {
     "name": "stdin",
     "output_type": "stream",
     "text": [
      "Enter number 123\n"
     ]
    },
    {
     "name": "stdout",
     "output_type": "stream",
     "text": [
      "It is not a pallindrome\n"
     ]
    }
   ],
   "source": [
    "#Q8\n",
    "a=int(input(\"Enter number\"))\n",
    "c=a\n",
    "b=\"\"\n",
    "while a>0:\n",
    "    b+=str(a%10)\n",
    "    a=a//10\n",
    "if int(b)==int(c):\n",
    "    print(\"It is a pallindrome\")\n",
    "else:\n",
    "    print(\"It is not a pallindrome\")\n",
    "   \n",
    "    \n"
   ]
  },
  {
   "cell_type": "code",
   "execution_count": 100,
   "id": "b3f79194-1d03-470f-a123-e3cf76b33b21",
   "metadata": {},
   "outputs": [
    {
     "data": {
      "text/plain": [
       "[1,\n",
       " 3,\n",
       " 5,\n",
       " 7,\n",
       " 9,\n",
       " 11,\n",
       " 13,\n",
       " 15,\n",
       " 17,\n",
       " 19,\n",
       " 21,\n",
       " 23,\n",
       " 25,\n",
       " 27,\n",
       " 29,\n",
       " 31,\n",
       " 33,\n",
       " 35,\n",
       " 37,\n",
       " 39,\n",
       " 41,\n",
       " 43,\n",
       " 45,\n",
       " 47,\n",
       " 49,\n",
       " 51,\n",
       " 53,\n",
       " 55,\n",
       " 57,\n",
       " 59,\n",
       " 61,\n",
       " 63,\n",
       " 65,\n",
       " 67,\n",
       " 69,\n",
       " 71,\n",
       " 73,\n",
       " 75,\n",
       " 77,\n",
       " 79,\n",
       " 81,\n",
       " 83,\n",
       " 85,\n",
       " 87,\n",
       " 89,\n",
       " 91,\n",
       " 93,\n",
       " 95,\n",
       " 97,\n",
       " 99]"
      ]
     },
     "execution_count": 100,
     "metadata": {},
     "output_type": "execute_result"
    }
   ],
   "source": [
    "#Q9\n",
    "ln=[]\n",
    "for i in range(100):\n",
    "    ln.append(i)\n",
    "list(filter(lambda x:x%2!=0,ln))\n"
   ]
  },
  {
   "cell_type": "code",
   "execution_count": 99,
   "id": "cfa8003a-7028-46cd-b215-eff7448f82a8",
   "metadata": {},
   "outputs": [
    {
     "name": "stdout",
     "output_type": "stream",
     "text": [
     
     ]
    }
   ],
   "source": []
  },
  {
   "cell_type": "code",
   "execution_count": null,
   "id": "87f44842-a608-4a34-a422-5ef9b03f2551",
   "metadata": {},
   "outputs": [],
   "source": []
  }
 ],
 "metadata": {
  "kernelspec": {
   "display_name": "Python 3 (ipykernel)",
   "language": "python",
   "name": "python3"
  },
  "language_info": {
   "codemirror_mode": {
    "name": "ipython",
    "version": 3
   },
   "file_extension": ".py",
   "mimetype": "text/x-python",
   "name": "python",
   "nbconvert_exporter": "python",
   "pygments_lexer": "ipython3",
   "version": "3.10.8"
  }
 },
 "nbformat": 4,
 "nbformat_minor": 5
}
