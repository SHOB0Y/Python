{
 "cells": [
  {
   "cell_type": "code",
   "execution_count": 1,
   "id": "690a0862-5ea6-472b-98a0-e53dd3d55532",
   "metadata": {},
   "outputs": [],
   "source": [
    "#1 An exception is an event, which occurs during the execution of a program that disrupts the normal flow of the program's instructions. In general, when a Python script encounters a situation that it cannot cope with, it raises an exception. An exception is a Python object that represents an error.\n",
    "#When a Python script raises an exception, it must either handle the exception immediately otherwise it terminates and quits.\n",
    "\n",
    "#Syntax Errors\n",
    "#Syntax Errors are those errors detected during the compilation phase by the compiler when your code does not follow the syntactical rules of the programming language you are using. e.g, missing semi-colon(s), missing parenthesis, using else if() block directly without using if block first, returning nothing from the function when the return type is some data type, say, int,\n",
    "\n",
    "#Exceptions\n",
    "#An Exception is the occurrence of an event that can disrupt the normal flow of the program instructions. Exceptions can be caught and handled in order to keep the program working for the exceptional situation as well, instead of halting the program flow. If the exception is not handled, then it can result in the termination of the program. Exceptions can be used to indicate that an error has occurred in the program.\n",
    "#Unlike syntax errors exceptions usually occur during run time"
   ]
  },
  {
   "cell_type": "code",
   "execution_count": 2,
   "id": "2caca5ab-321a-48ee-a6d0-cd4ca8266082",
   "metadata": {},
   "outputs": [
    {
     "ename": "ZeroDivisionError",
     "evalue": "division by zero",
     "output_type": "error",
     "traceback": [
      "\u001b[0;31m---------------------------------------------------------------------------\u001b[0m",
      "\u001b[0;31mZeroDivisionError\u001b[0m                         Traceback (most recent call last)",
      "Cell \u001b[0;32mIn[2], line 5\u001b[0m\n\u001b[1;32m      3\u001b[0m a\u001b[38;5;241m=\u001b[39m\u001b[38;5;241m3\u001b[39m\n\u001b[1;32m      4\u001b[0m b\u001b[38;5;241m=\u001b[39m\u001b[38;5;241m0\u001b[39m\n\u001b[0;32m----> 5\u001b[0m \u001b[38;5;28mprint\u001b[39m(\u001b[43ma\u001b[49m\u001b[38;5;241;43m/\u001b[39;49m\u001b[43mb\u001b[49m)\n",
      "\u001b[0;31mZeroDivisionError\u001b[0m: division by zero"
     ]
    }
   ],
   "source": [
    "#2\n",
    "#If an exception is not caught , the runtime system will abort the program  and an exception message will print to the console. The message typically includes: name of exception type.\n",
    "a=3\n",
    "b=0\n",
    "print(a/b)"
   ]
  },
  {
   "cell_type": "code",
   "execution_count": 11,
   "id": "052b3a6a-590d-4d6f-b87a-fa669ef92b9a",
   "metadata": {},
   "outputs": [
    {
     "name": "stdout",
     "output_type": "stream",
     "text": [
      "division by zero\n",
      "You cannot divide  by 0\n"
     ]
    }
   ],
   "source": [
    "#Q3The try block is use to catch an error and the catch block is used to handle an error\n",
    "try:\n",
    "    print(a/b)\n",
    "except ZeroDivisionError as e:\n",
    "    print(e)\n",
    "    print(\"You cannot divide  by 0\")"
   ]
  },
  {
   "cell_type": "code",
   "execution_count": 16,
   "id": "e45dbaf0-c828-4345-b4fb-2666b4180857",
   "metadata": {},
   "outputs": [
    {
     "name": "stdout",
     "output_type": "stream",
     "text": [
      "0.8\n",
      "This is executed only when there is no error\n"
     ]
    }
   ],
   "source": [
    "#Q4 a) The try block lets you test a block of code for errors. The else block lets you execute code when there is no error.\n",
    "try :\n",
    "    c=4\n",
    "    d=5\n",
    "    print(c/d)\n",
    "except Exception as e:\n",
    "    print(e)\n",
    "else:\n",
    "    print(\"This is executed only when there is no error\")\n"
   ]
  },
  {
   "cell_type": "code",
   "execution_count": 17,
   "id": "08007efc-9c6d-4d55-b51c-1742e9e264ab",
   "metadata": {},
   "outputs": [
    {
     "name": "stdout",
     "output_type": "stream",
     "text": [
      "division by zero\n",
      "executed if there is or isnt an error\n"
     ]
    }
   ],
   "source": [
    "# b) The finally keyword is used to execute code (used with exceptions - try.. catch statements) no matter if there is an exception or not.\n",
    "try:\n",
    "    print(a/b)\n",
    "except Exception as e:\n",
    "    print(e)\n",
    "finally:\n",
    "    print(\"executed if there is or isnt an error\")"
   ]
  },
  {
   "cell_type": "code",
   "execution_count": 24,
   "id": "e7f8cfca-5efc-4c5c-8db1-94185ce1425f",
   "metadata": {},
   "outputs": [
    {
     "ename": "ZeroDivisionError",
     "evalue": "",
     "output_type": "error",
     "traceback": [
      "\u001b[0;31m---------------------------------------------------------------------------\u001b[0m",
      "\u001b[0;31mZeroDivisionError\u001b[0m                         Traceback (most recent call last)",
      "Cell \u001b[0;32mIn[24], line 7\u001b[0m\n\u001b[1;32m      5\u001b[0m     \u001b[38;5;28;01melse\u001b[39;00m:\n\u001b[1;32m      6\u001b[0m         \u001b[38;5;28mprint\u001b[39m (\u001b[38;5;124m\"\u001b[39m\u001b[38;5;124myou are  \u001b[39m\u001b[38;5;132;01m%d\u001b[39;00m\u001b[38;5;124m years old\u001b[39m\u001b[38;5;124m\"\u001b[39m\u001b[38;5;241m%\u001b[39m age)\n\u001b[0;32m----> 7\u001b[0m \u001b[43magee\u001b[49m\u001b[43m(\u001b[49m\u001b[38;5;241;43m-\u001b[39;49m\u001b[38;5;241;43m4\u001b[39;49m\u001b[43m)\u001b[49m\n",
      "Cell \u001b[0;32mIn[24], line 4\u001b[0m, in \u001b[0;36magee\u001b[0;34m(age)\u001b[0m\n\u001b[1;32m      2\u001b[0m \u001b[38;5;28;01mdef\u001b[39;00m \u001b[38;5;21magee\u001b[39m(age):\n\u001b[1;32m      3\u001b[0m     \u001b[38;5;28;01mif\u001b[39;00m age\u001b[38;5;241m<\u001b[39m\u001b[38;5;241m0\u001b[39m:\n\u001b[0;32m----> 4\u001b[0m         \u001b[38;5;28;01mraise\u001b[39;00m \u001b[38;5;167;01mZeroDivisionError\u001b[39;00m\n\u001b[1;32m      5\u001b[0m     \u001b[38;5;28;01melse\u001b[39;00m:\n\u001b[1;32m      6\u001b[0m         \u001b[38;5;28mprint\u001b[39m (\u001b[38;5;124m\"\u001b[39m\u001b[38;5;124myou are  \u001b[39m\u001b[38;5;132;01m%d\u001b[39;00m\u001b[38;5;124m years old\u001b[39m\u001b[38;5;124m\"\u001b[39m\u001b[38;5;241m%\u001b[39m age)\n",
      "\u001b[0;31mZeroDivisionError\u001b[0m: "
     ]
    }
   ],
   "source": [
    "# c) The raise keyword raises a specific exception when a condition is met or the code encounters an error. \n",
    "def agee(age):\n",
    "    if age<0:\n",
    "        raise ZeroDivisionError\n",
    "    else:\n",
    "        print (\"you are  %d years old\"% age)\n",
    "agee(-4)"
   ]
  },
  {
   "cell_type": "code",
   "execution_count": 25,
   "id": "f0a312de-98c4-43b0-97d3-6019b849f633",
   "metadata": {},
   "outputs": [
    {
     "ename": "ager",
     "evalue": "Age cannot be negative",
     "output_type": "error",
     "traceback": [
      "\u001b[0;31m---------------------------------------------------------------------------\u001b[0m",
      "\u001b[0;31mager\u001b[0m                                      Traceback (most recent call last)",
      "Cell \u001b[0;32mIn[25], line 10\u001b[0m\n\u001b[1;32m      8\u001b[0m     \u001b[38;5;28;01melse\u001b[39;00m:\n\u001b[1;32m      9\u001b[0m         \u001b[38;5;28mprint\u001b[39m (\u001b[38;5;124m\"\u001b[39m\u001b[38;5;124myou are  \u001b[39m\u001b[38;5;132;01m%d\u001b[39;00m\u001b[38;5;124m years old\u001b[39m\u001b[38;5;124m\"\u001b[39m\u001b[38;5;241m%\u001b[39m age)\n\u001b[0;32m---> 10\u001b[0m \u001b[43magee\u001b[49m\u001b[43m(\u001b[49m\u001b[38;5;241;43m-\u001b[39;49m\u001b[38;5;241;43m4\u001b[39;49m\u001b[43m)\u001b[49m\n",
      "Cell \u001b[0;32mIn[25], line 7\u001b[0m, in \u001b[0;36magee\u001b[0;34m(age)\u001b[0m\n\u001b[1;32m      5\u001b[0m \u001b[38;5;28;01mdef\u001b[39;00m \u001b[38;5;21magee\u001b[39m(age):\n\u001b[1;32m      6\u001b[0m     \u001b[38;5;28;01mif\u001b[39;00m age\u001b[38;5;241m<\u001b[39m\u001b[38;5;241m0\u001b[39m:\n\u001b[0;32m----> 7\u001b[0m         \u001b[38;5;28;01mraise\u001b[39;00m ager(\u001b[38;5;124m\"\u001b[39m\u001b[38;5;124mAge cannot be negative\u001b[39m\u001b[38;5;124m\"\u001b[39m)\n\u001b[1;32m      8\u001b[0m     \u001b[38;5;28;01melse\u001b[39;00m:\n\u001b[1;32m      9\u001b[0m         \u001b[38;5;28mprint\u001b[39m (\u001b[38;5;124m\"\u001b[39m\u001b[38;5;124myou are  \u001b[39m\u001b[38;5;132;01m%d\u001b[39;00m\u001b[38;5;124m years old\u001b[39m\u001b[38;5;124m\"\u001b[39m\u001b[38;5;241m%\u001b[39m age)\n",
      "\u001b[0;31mager\u001b[0m: Age cannot be negative"
     ]
    }
   ],
   "source": [
    "#Q5  custom exceptions are used to customize the exception according to user needs.Custom exceptions provide you the flexibility to add attributes and methods that are not part of a standard Python exception. These can store additional information, like an application-specific error code, or provide utility methods that can be used to handle or present the exception to a user.\n",
    "class ager(Exception):\n",
    "    def __init__(self,msg):\n",
    "        self.msg=msg\n",
    "def agee(age):\n",
    "    if age<0:\n",
    "        raise ager(\"Age cannot be negative\")\n",
    "    else:\n",
    "        print (\"you are  %d years old\"% age)\n",
    "agee(-4)"
   ]
  },
  {
   "cell_type": "code",
   "execution_count": 29,
   "id": "e7116870-f214-447d-8ea9-e19e8b79c385",
   "metadata": {},
   "outputs": [
    {
     "name": "stdout",
     "output_type": "stream",
     "text": [
      "Age cannot be negative\n"
     ]
    }
   ],
   "source": [
    "#Q6 \n",
    "class ager(Exception):\n",
    "    def __init__(self,msg):\n",
    "        self.msg=msg\n",
    "def agee(age):\n",
    "    if age<0:\n",
    "        raise ager(\"Age cannot be negative\")\n",
    "    else:\n",
    "        print (\"you are  %d years old\"% age)\n",
    "try:\n",
    "    agee(-4)\n",
    "except ager as e:\n",
    "    print(e)"
   ]
  },
  {
   "cell_type": "code",
   "execution_count": null,
   "id": "f859741e-a4da-41bd-9f26-ae79b474ae65",
   "metadata": {},
   "outputs": [],
   "source": []
  }
 ],
 "metadata": {
  "kernelspec": {
   "display_name": "Python 3 (ipykernel)",
   "language": "python",
   "name": "python3"
  },
  "language_info": {
   "codemirror_mode": {
    "name": "ipython",
    "version": 3
   },
   "file_extension": ".py",
   "mimetype": "text/x-python",
   "name": "python",
   "nbconvert_exporter": "python",
   "pygments_lexer": "ipython3",
   "version": "3.10.8"
  }
 },
 "nbformat": 4,
 "nbformat_minor": 5
}
