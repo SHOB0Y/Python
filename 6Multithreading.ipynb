{
 "cells": [
  {
   "cell_type": "code",
   "execution_count": 1,
   "id": "61cb8883-2305-4f34-8673-e7f617496d31",
   "metadata": {},
   "outputs": [],
   "source": [
    "#Q1 Python multithreading enables efficient utilization of the resources as the threads share the data space and memory. Multithreading in Python allows the concurrent and parallel occurrence of various tasks. It causes a reduction in time consumption or response time, thereby increasing the performance.\n",
    "#the threading module is used to handle threads in pythom"
   ]
  },
  {
   "cell_type": "code",
   "execution_count": 22,
   "id": "a8b41c26-f787-415a-bb8e-569b50551752",
   "metadata": {},
   "outputs": [
    {
     "name": "stdout",
     "output_type": "stream",
     "text": [
      "Prog 0, loop 0 current active thread  \n",
      "Active current thread right now: <Thread(Thread-75 (prod), started 139711033099840)>\n",
      "No. of active threads = 9\n",
      "All threads currently alive [<_MainThread(MainThread, started 139711598634816)>, <Thread(IOPub, started daemon 139711460931136)>, <Heartbeat(Heartbeat, started daemon 139711452538432)>, <Thread(Thread-3 (_watch_pipe_fd), started daemon 139711427360320)>, <Thread(Thread-4 (_watch_pipe_fd), started daemon 139711418967616)>, <ControlThread(Control, started daemon 139711410574912)>, <HistorySavingThread(IPythonHistorySavingThread, started 139711058277952)>, <ParentPollerUnix(Thread-2, started daemon 139711049885248)>, <Thread(Thread-75 (prod), started 139711033099840)>]\n",
      "Prog 1, loop 0 current active thread  \n",
      "Active current thread right now: <Thread(Thread-76 (prod), started 139711007921728)>\n",
      "No. of active threads = 10\n",
      "All threads currently alive [<_MainThread(MainThread, started 139711598634816)>, <Thread(IOPub, started daemon 139711460931136)>, <Heartbeat(Heartbeat, started daemon 139711452538432)>, <Thread(Thread-3 (_watch_pipe_fd), started daemon 139711427360320)>, <Thread(Thread-4 (_watch_pipe_fd), started daemon 139711418967616)>, <ControlThread(Control, started daemon 139711410574912)>, <HistorySavingThread(IPythonHistorySavingThread, started 139711058277952)>, <ParentPollerUnix(Thread-2, started daemon 139711049885248)>, <Thread(Thread-75 (prod), started 139711033099840)>, <Thread(Thread-76 (prod), started 139711007921728)>]\n",
      "Prog 2, loop 0 current active thread  \n",
      "Active current thread right now: <Thread(Thread-77 (prod), started 139711041492544)>\n",
      "No. of active threads = 11\n",
      "All threads currently alive [<_MainThread(MainThread, started 139711598634816)>, <Thread(IOPub, started daemon 139711460931136)>, <Heartbeat(Heartbeat, started daemon 139711452538432)>, <Thread(Thread-3 (_watch_pipe_fd), started daemon 139711427360320)>, <Thread(Thread-4 (_watch_pipe_fd), started daemon 139711418967616)>, <ControlThread(Control, started daemon 139711410574912)>, <HistorySavingThread(IPythonHistorySavingThread, started 139711058277952)>, <ParentPollerUnix(Thread-2, started daemon 139711049885248)>, <Thread(Thread-75 (prod), started 139711033099840)>, <Thread(Thread-76 (prod), started 139711007921728)>, <Thread(Thread-77 (prod), started 139711041492544)>]\n",
      "Prog 3, loop 0 current active thread  \n",
      "Active current thread right now: <Thread(Thread-78 (prod), started 139711016314432)>\n",
      "No. of active threads = 12\n",
      "All threads currently alive [<_MainThread(MainThread, started 139711598634816)>, <Thread(IOPub, started daemon 139711460931136)>, <Heartbeat(Heartbeat, started daemon 139711452538432)>, <Thread(Thread-3 (_watch_pipe_fd), started daemon 139711427360320)>, <Thread(Thread-4 (_watch_pipe_fd), started daemon 139711418967616)>, <ControlThread(Control, started daemon 139711410574912)>, <HistorySavingThread(IPythonHistorySavingThread, started 139711058277952)>, <ParentPollerUnix(Thread-2, started daemon 139711049885248)>, <Thread(Thread-75 (prod), started 139711033099840)>, <Thread(Thread-76 (prod), started 139711007921728)>, <Thread(Thread-77 (prod), started 139711041492544)>, <Thread(Thread-78 (prod), started 139711016314432)>]\n",
      "Prog 4, loop 0 current active thread  \n",
      "Active current thread right now: <Thread(Thread-79 (prod), started 139711024707136)>\n",
      "No. of active threads = 13\n",
      "All threads currently alive [<_MainThread(MainThread, started 139711598634816)>, <Thread(IOPub, started daemon 139711460931136)>, <Heartbeat(Heartbeat, started daemon 139711452538432)>, <Thread(Thread-3 (_watch_pipe_fd), started daemon 139711427360320)>, <Thread(Thread-4 (_watch_pipe_fd), started daemon 139711418967616)>, <ControlThread(Control, started daemon 139711410574912)>, <HistorySavingThread(IPythonHistorySavingThread, started 139711058277952)>, <ParentPollerUnix(Thread-2, started daemon 139711049885248)>, <Thread(Thread-75 (prod), started 139711033099840)>, <Thread(Thread-76 (prod), started 139711007921728)>, <Thread(Thread-77 (prod), started 139711041492544)>, <Thread(Thread-78 (prod), started 139711016314432)>, <Thread(Thread-79 (prod), started 139711024707136)>]\n",
      "Prog 1, loop 1 current active thread  \n",
      "Active current thread right now: <Thread(Thread-76 (prod), started 139711007921728)>\n",
      "No. of active threads = 13\n",
      "All threads currently alive [<_MainThread(MainThread, started 139711598634816)>, <Thread(IOPub, started daemon 139711460931136)>, <Heartbeat(Heartbeat, started daemon 139711452538432)>, <Thread(Thread-3 (_watch_pipe_fd), started daemon 139711427360320)>, <Thread(Thread-4 (_watch_pipe_fd), started daemon 139711418967616)>, <ControlThread(Control, started daemon 139711410574912)>, <HistorySavingThread(IPythonHistorySavingThread, started 139711058277952)>, <ParentPollerUnix(Thread-2, started daemon 139711049885248)>, <Thread(Thread-75 (prod), started 139711033099840)>, <Thread(Thread-76 (prod), started 139711007921728)>, <Thread(Thread-77 (prod), started 139711041492544)>, <Thread(Thread-78 (prod), started 139711016314432)>, <Thread(Thread-79 (prod), started 139711024707136)>]\n",
      "Prog 2, loop 1 current active thread  \n",
      "Active current thread right now: <Thread(Thread-77 (prod), started 139711041492544)>\n",
      "No. of active threads = 13\n",
      "All threads currently alive [<_MainThread(MainThread, started 139711598634816)>, <Thread(IOPub, started daemon 139711460931136)>, <Heartbeat(Heartbeat, started daemon 139711452538432)>, <Thread(Thread-3 (_watch_pipe_fd), started daemon 139711427360320)>, <Thread(Thread-4 (_watch_pipe_fd), started daemon 139711418967616)>, <ControlThread(Control, started daemon 139711410574912)>, <HistorySavingThread(IPythonHistorySavingThread, started 139711058277952)>, <ParentPollerUnix(Thread-2, started daemon 139711049885248)>, <Thread(Thread-75 (prod), started 139711033099840)>, <Thread(Thread-76 (prod), started 139711007921728)>, <Thread(Thread-77 (prod), started 139711041492544)>, <Thread(Thread-78 (prod), started 139711016314432)>, <Thread(Thread-79 (prod), started 139711024707136)>]\n",
      "Prog 4, loop 1 current active thread  \n",
      "Active current thread right now: <Thread(Thread-79 (prod), started 139711024707136)>\n",
      "No. of active threads = 13\n",
      "All threads currently alive [<_MainThread(MainThread, started 139711598634816)>, <Thread(IOPub, started daemon 139711460931136)>, <Heartbeat(Heartbeat, started daemon 139711452538432)>, <Thread(Thread-3 (_watch_pipe_fd), started daemon 139711427360320)>, <Thread(Thread-4 (_watch_pipe_fd), started daemon 139711418967616)>, <ControlThread(Control, started daemon 139711410574912)>, <HistorySavingThread(IPythonHistorySavingThread, started 139711058277952)>, <ParentPollerUnix(Thread-2, started daemon 139711049885248)>, <Thread(Thread-75 (prod), started 139711033099840)>, <Thread(Thread-76 (prod), started 139711007921728)>, <Thread(Thread-77 (prod), started 139711041492544)>, <Thread(Thread-78 (prod), started 139711016314432)>, <Thread(Thread-79 (prod), started 139711024707136)>]\n",
      "Prog 0, loop 1 current active thread  \n",
      "Active current thread right now: <Thread(Thread-75 (prod), started 139711033099840)>\n",
      "No. of active threads = 13\n",
      "All threads currently alive [<_MainThread(MainThread, started 139711598634816)>, <Thread(IOPub, started daemon 139711460931136)>, <Heartbeat(Heartbeat, started daemon 139711452538432)>, <Thread(Thread-3 (_watch_pipe_fd), started daemon 139711427360320)>, <Thread(Thread-4 (_watch_pipe_fd), started daemon 139711418967616)>, <ControlThread(Control, started daemon 139711410574912)>, <HistorySavingThread(IPythonHistorySavingThread, started 139711058277952)>, <ParentPollerUnix(Thread-2, started daemon 139711049885248)>, <Thread(Thread-75 (prod), started 139711033099840)>, <Thread(Thread-76 (prod), started 139711007921728)>, <Thread(Thread-77 (prod), started 139711041492544)>, <Thread(Thread-78 (prod), started 139711016314432)>, <Thread(Thread-79 (prod), started 139711024707136)>]\n",
      "Prog 3, loop 1 current active thread  \n",
      "Active current thread right now: <Thread(Thread-78 (prod), started 139711016314432)>\n",
      "No. of active threads = 13\n",
      "All threads currently alive [<_MainThread(MainThread, started 139711598634816)>, <Thread(IOPub, started daemon 139711460931136)>, <Heartbeat(Heartbeat, started daemon 139711452538432)>, <Thread(Thread-3 (_watch_pipe_fd), started daemon 139711427360320)>, <Thread(Thread-4 (_watch_pipe_fd), started daemon 139711418967616)>, <ControlThread(Control, started daemon 139711410574912)>, <HistorySavingThread(IPythonHistorySavingThread, started 139711058277952)>, <ParentPollerUnix(Thread-2, started daemon 139711049885248)>, <Thread(Thread-75 (prod), started 139711033099840)>, <Thread(Thread-76 (prod), started 139711007921728)>, <Thread(Thread-77 (prod), started 139711041492544)>, <Thread(Thread-78 (prod), started 139711016314432)>, <Thread(Thread-79 (prod), started 139711024707136)>]\n",
      "Prog 2, loop 2 current active thread  \n",
      "Active current thread right now: <Thread(Thread-77 (prod), started 139711041492544)>\n",
      "No. of active threads = 13\n",
      "All threads currently alive [<_MainThread(MainThread, started 139711598634816)>, <Thread(IOPub, started daemon 139711460931136)>, <Heartbeat(Heartbeat, started daemon 139711452538432)>, <Thread(Thread-3 (_watch_pipe_fd), started daemon 139711427360320)>, <Thread(Thread-4 (_watch_pipe_fd), started daemon 139711418967616)>, <ControlThread(Control, started daemon 139711410574912)>, <HistorySavingThread(IPythonHistorySavingThread, started 139711058277952)>, <ParentPollerUnix(Thread-2, started daemon 139711049885248)>, <Thread(Thread-75 (prod), started 139711033099840)>, <Thread(Thread-76 (prod), started 139711007921728)>, <Thread(Thread-77 (prod), started 139711041492544)>, <Thread(Thread-78 (prod), started 139711016314432)>, <Thread(Thread-79 (prod), started 139711024707136)>]\n",
      "Prog 4, loop 2 current active thread  \n",
      "Active current thread right now: <Thread(Thread-79 (prod), started 139711024707136)>\n",
      "No. of active threads = 13\n",
      "All threads currently alive [<_MainThread(MainThread, started 139711598634816)>, <Thread(IOPub, started daemon 139711460931136)>, <Heartbeat(Heartbeat, started daemon 139711452538432)>, <Thread(Thread-3 (_watch_pipe_fd), started daemon 139711427360320)>, <Thread(Thread-4 (_watch_pipe_fd), started daemon 139711418967616)>, <ControlThread(Control, started daemon 139711410574912)>, <HistorySavingThread(IPythonHistorySavingThread, started 139711058277952)>, <ParentPollerUnix(Thread-2, started daemon 139711049885248)>, <Thread(Thread-75 (prod), started 139711033099840)>, <Thread(Thread-76 (prod), started 139711007921728)>, <Thread(Thread-77 (prod), started 139711041492544)>, <Thread(Thread-78 (prod), started 139711016314432)>, <Thread(Thread-79 (prod), started 139711024707136)>]\n",
      "Prog 1, loop 2 current active thread  \n",
      "Active current thread right now: <Thread(Thread-76 (prod), started 139711007921728)>\n",
      "No. of active threads = 13\n",
      "All threads currently alive [<_MainThread(MainThread, started 139711598634816)>, <Thread(IOPub, started daemon 139711460931136)>, <Heartbeat(Heartbeat, started daemon 139711452538432)>, <Thread(Thread-3 (_watch_pipe_fd), started daemon 139711427360320)>, <Thread(Thread-4 (_watch_pipe_fd), started daemon 139711418967616)>, <ControlThread(Control, started daemon 139711410574912)>, <HistorySavingThread(IPythonHistorySavingThread, started 139711058277952)>, <ParentPollerUnix(Thread-2, started daemon 139711049885248)>, <Thread(Thread-75 (prod), started 139711033099840)>, <Thread(Thread-76 (prod), started 139711007921728)>, <Thread(Thread-77 (prod), started 139711041492544)>, <Thread(Thread-78 (prod), started 139711016314432)>, <Thread(Thread-79 (prod), started 139711024707136)>]\n",
      "Prog 0, loop 2 current active thread  \n",
      "Active current thread right now: <Thread(Thread-75 (prod), started 139711033099840)>\n",
      "No. of active threads = 13\n",
      "All threads currently alive [<_MainThread(MainThread, started 139711598634816)>, <Thread(IOPub, started daemon 139711460931136)>, <Heartbeat(Heartbeat, started daemon 139711452538432)>, <Thread(Thread-3 (_watch_pipe_fd), started daemon 139711427360320)>, <Thread(Thread-4 (_watch_pipe_fd), started daemon 139711418967616)>, <ControlThread(Control, started daemon 139711410574912)>, <HistorySavingThread(IPythonHistorySavingThread, started 139711058277952)>, <ParentPollerUnix(Thread-2, started daemon 139711049885248)>, <Thread(Thread-75 (prod), started 139711033099840)>, <Thread(Thread-76 (prod), started 139711007921728)>, <Thread(Thread-77 (prod), started 139711041492544)>, <Thread(Thread-78 (prod), started 139711016314432)>, <Thread(Thread-79 (prod), started 139711024707136)>]\n",
      "Prog 3, loop 2 current active thread  \n",
      "Active current thread right now: <Thread(Thread-78 (prod), started 139711016314432)>\n",
      "No. of active threads = 13\n",
      "All threads currently alive [<_MainThread(MainThread, started 139711598634816)>, <Thread(IOPub, started daemon 139711460931136)>, <Heartbeat(Heartbeat, started daemon 139711452538432)>, <Thread(Thread-3 (_watch_pipe_fd), started daemon 139711427360320)>, <Thread(Thread-4 (_watch_pipe_fd), started daemon 139711418967616)>, <ControlThread(Control, started daemon 139711410574912)>, <HistorySavingThread(IPythonHistorySavingThread, started 139711058277952)>, <ParentPollerUnix(Thread-2, started daemon 139711049885248)>, <Thread(Thread-75 (prod), started 139711033099840)>, <Thread(Thread-76 (prod), started 139711007921728)>, <Thread(Thread-77 (prod), started 139711041492544)>, <Thread(Thread-78 (prod), started 139711016314432)>, <Thread(Thread-79 (prod), started 139711024707136)>]\n"
     ]
    }
   ],
   "source": [
    "#Q2 threading module is used for creating, controlling and managing threads in python.\n",
    "#1 the method threading.active_count() from the threading module is used to count the currently active or running threads.\n",
    "#2 currentThread() − Returns the number of thread objects in the caller's thread control.\n",
    "#3 threading. enumerate() returns a list of all Thread objects currently alive.\n",
    "import threading\n",
    "import time\n",
    "def prod(id):\n",
    "    for i in range(3):\n",
    "        print(\"Prog %d, loop %d current active thread  \"%(id,i))\n",
    "        print(\"Active current thread right now:\", threading.current_thread())\n",
    "        print(\"No. of active threads = %d\"%threading.active_count())\n",
    "        print(\"All threads currently alive\",threading.enumerate())\n",
    "        time.sleep(5)\n",
    "thread=[threading.Thread(target=prod,args=(i,))for i in range(5)]\n",
    "for t in thread:\n",
    "    t.start()"
   ]
  },
  {
   "cell_type": "code",
   "execution_count": 1,
   "id": "b92f0735-f392-4ea0-945a-137fa36cda13",
   "metadata": {},
   "outputs": [],
   "source": [
    " #Q3 run(): This method represents the code to be executed when the thread starts running. You should override this method in your subclass to define the thread's behavior. The start() method calls this method internally.\n",
    "#start(): This method starts the thread's execution by calling the run() method. It creates a new thread of control and begins executing the code specified in the run() method.\n",
    "#join([timeout]): The join() method waits for the thread to terminate. If the optional timeout argument is provided, it specifies the maximum time to wait for the thread to complete. If the thread finishes before the timeout, the join() method returns None. If the timeout occurs before the thread completes, the method returns True. The join() method is often used to wait for all threads to finish before the main thread exits or before proceeding with other tasks.\n",
    "#isAlive(): The isAlive() method checks whether a thread is still executing or if it has terminated. It returns True if the thread is still running and False if it has completed its execution."
   ]
  },
  {
   "cell_type": "code",
   "execution_count": 19,
   "id": "ccf17b31-bec2-46fa-afd0-3c671236cdbe",
   "metadata": {},
   "outputs": [
    {
     "name": "stdout",
     "output_type": "stream",
     "text": [
      "[1]\n",
      "[1]\n",
      "[1, 4]\n",
      "[1, 8]\n",
      "[1, 4, 9]\n",
      "[1, 8, 27]\n",
      "[1, 4, 9, 16]\n",
      "[1, 8, 27, 64]\n"
     ]
    }
   ],
   "source": [
    "#Q4 \n",
    "import threading\n",
    "import time\n",
    "def square(powe,leng):\n",
    "    list=[]\n",
    "    for i in range(1,leng):\n",
    "        \n",
    "        list.append(i**powe)\n",
    "        time.sleep(1)\n",
    "        print(list)\n",
    "thread=[threading.Thread(target=square,args=(powe,5))for powe in range(2,4) ]\n",
    "for t in thread:\n",
    "    t.start()"
   ]
  },
  {
   "cell_type": "code",
   "execution_count": 20,
   "id": "0ab6855e-456f-4d4e-8e1f-d15163cc323f",
   "metadata": {},
   "outputs": [],
   "source": [
    "#Q5 Common Advantages And Disadvantages Of Multithreading\n",
    "#Advantages:\n",
    "#Improved performance: Multithreading can help increase the overall performance of an application, especially on systems with multiple processors or cores. It allows multiple tasks to run concurrently, utilizing the available CPU resources more efficiently.\n",
    "#Responsiveness: In a single-threaded environment, if a long-running task blocks the main thread, the entire application becomes unresponsive. Multithreading can prevent this issue by running such tasks in separate threads, ensuring the application remains responsive.\n",
    "#Better resource utilization: Multithreading allows better utilization of system resources by keeping the CPU busy while waiting for I/O operations or other tasks to complete.\n",
    "#Simplified modeling: Some problems can be more naturally modeled using multiple threads. This makes the program easier to design, understand, and maintain.\n",
    "#Parallelism: Multithreading enables parallelism, which can lead to significant performance improvements in applications that can be divided into smaller, independent tasks.\n",
    "#Disadvantages:\n",
    "#Complexity: Multithreading adds complexity to the program, making it more difficult to design, implement, and debug. Developers need to be aware of synchronization, deadlocks, race conditions, and other concurrency-related issues.\n",
    "#Synchronization overhead: To avoid data corruption and maintain consistency, developers must synchronize access to shared resources, which can result in additional overhead and reduced performance.\n",
    "#Context switching: Context switching between threads consumes CPU time and resources, which can lead to performance degradation if not managed efficiently.\n",
    "#Hard to predict behavior: Due to the concurrent nature of multithreading, the behavior of the program can be hard to predict and reproduce, especially when it comes to debugging.\n",
    "#Limited by hardware: The performance benefits of multithreading are limited by the number of available cores or processors in the system. In some cases, excessive use of threads can lead to performance degradation instead of improvement."
   ]
  },
  {
   "cell_type": "code",
   "execution_count": null,
   "id": "611fe362-aedf-4ea1-905c-c1fcd638e274",
   "metadata": {},
   "outputs": [],
   "source": [
    "#Q6"
   ]
  }
 ],
 "metadata": {
  "kernelspec": {
   "display_name": "Python 3 (ipykernel)",
   "language": "python",
   "name": "python3"
  },
  "language_info": {
   "codemirror_mode": {
    "name": "ipython",
    "version": 3
   },
   "file_extension": ".py",
   "mimetype": "text/x-python",
   "name": "python",
   "nbconvert_exporter": "python",
   "pygments_lexer": "ipython3",
   "version": "3.10.8"
  }
 },
 "nbformat": 4,
 "nbformat_minor": 5
}
