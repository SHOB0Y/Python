{
 "cells": [
  {
   "cell_type": "code",
   "execution_count": 4,
   "id": "63fb2f2d-bfd6-48e7-ae38-e470d6fb8a48",
   "metadata": {},
   "outputs": [
    {
     "data": {
      "text/plain": [
       "'this is a string literal'"
      ]
     },
     "execution_count": 4,
     "metadata": {},
     "output_type": "execute_result"
    }
   ],
   "source": [
    "#Q1 Code can be commented using the hash(#) symbol\n",
    " #THIS IS A COMMENT\n",
    "#There are 3 types of comments which are:\n",
    "    #1 single line comment\n",
    "    #this is a single line comment\n",
    "    \n",
    "    #2 Multi line comment\n",
    "    #can be inserted by using #in different lines or by using string literaly without assigning it to variables\n",
    "\"this is a string literal\"\n",
    "    \n",
    "    #3 Docstrings\n",
    "    #written in the first line of after function\n",
    "    #can be accesed using the .__doc__ attribute"
   ]
  },
  {
   "cell_type": "code",
   "execution_count": 6,
   "id": "854f8bac-da2a-467b-8e3c-1d9d8a5ecc19",
   "metadata": {},
   "outputs": [],
   "source": [
    "#Q2 A variable is a string of characters and numbers associated with a piece of information. The assignment operator, denoted by the “=” symbol, is the operator that is used to assign values to variables in Python. \n",
    "#vairables can be declared by naming the variable and assigning the required value to it data type need not be declared"
   ]
  },
  {
   "cell_type": "code",
   "execution_count": 10,
   "id": "01c511ca-be52-4ade-bb1f-471307eb24f3",
   "metadata": {},
   "outputs": [
    {
     "data": {
      "text/plain": [
       "5"
      ]
     },
     "execution_count": 10,
     "metadata": {},
     "output_type": "execute_result"
    }
   ],
   "source": [
    "#Q3 One data type can be converted into another using the datatype function which is\n",
    "#mentioning the datatype and enclosing the variable to be converted within brackets for eg:\n",
    "a=5\n",
    "str(a)\n"
   ]
  },
  {
   "cell_type": "code",
   "execution_count": 12,
   "id": "b1a50271-c92c-4558-a933-bdcd69b45bb4",
   "metadata": {},
   "outputs": [],
   "source": [
    "#Q4 To run Python scripts with the python command, you need to open a command-line and type in the word python , or python3 if you have both versions, followed by the path to your script"
   ]
  },
  {
   "cell_type": "code",
   "execution_count": 13,
   "id": "ac3d5d97-0544-48b6-aab5-f533f47b2c5e",
   "metadata": {},
   "outputs": [
    {
     "data": {
      "text/plain": [
       "[2, 3]"
      ]
     },
     "execution_count": 13,
     "metadata": {},
     "output_type": "execute_result"
    }
   ],
   "source": [
    "#Q5\n",
    "my_list = [1, 2, 3, 4, 5]\n",
    "my_list[1:3]"
   ]
  },
  {
   "cell_type": "code",
   "execution_count": 16,
   "id": "37cdad07-45f3-4347-99b1-979f11e5d1df",
   "metadata": {},
   "outputs": [],
   "source": [
    "#Q6 A complex no. is a no. in form a+ ib ( i is the imaginary part) in which it consists of 2 parts which are the real and imaginary parts the real part can be expressed as a no. itself whereas the imaginary no. is expressed along with a variable j\n",
    "cmp=4+5j"
   ]
  },
  {
   "cell_type": "code",
   "execution_count": 18,
   "id": "a8954e55-2003-4537-961d-4754002924df",
   "metadata": {},
   "outputs": [],
   "source": [
    "#Q7\n",
    "age=25"
   ]
  },
  {
   "cell_type": "code",
   "execution_count": 20,
   "id": "cbd8a949-b76b-49d1-8f0d-74c2d2fe5649",
   "metadata": {},
   "outputs": [
    {
     "data": {
      "text/plain": [
       "float"
      ]
     },
     "execution_count": 20,
     "metadata": {},
     "output_type": "execute_result"
    }
   ],
   "source": [
    "#Q8\n",
    "price=9.99\n",
    "#it is the float data type \n",
    "type(price)"
   ]
  },
  {
   "cell_type": "code",
   "execution_count": 21,
   "id": "d6106ec7-cca8-424f-af7c-972b78351a81",
   "metadata": {},
   "outputs": [
    {
     "name": "stdout",
     "output_type": "stream",
     "text": [
      "Shoaib Ahmed\n"
     ]
    }
   ],
   "source": [
    "#Q9\n",
    "name=\"Shoaib Ahmed\" \n",
    "#can be printed using the print function\n",
    "print(name)"
   ]
  },
  {
   "cell_type": "code",
   "execution_count": 27,
   "id": "462269fb-9920-4621-8a9e-2e0479be870b",
   "metadata": {},
   "outputs": [
    {
     "data": {
      "text/plain": [
       "'World'"
      ]
     },
     "execution_count": 27,
     "metadata": {},
     "output_type": "execute_result"
    }
   ],
   "source": [
    "#Q10\n",
    "hi=\"Hello, World!\"\n",
    "hi.index(\"W\")\n",
    "hi[7:-1]"
   ]
  },
  {
   "cell_type": "code",
   "execution_count": null,
   "id": "ca6f7851-c018-4f5e-91dc-217fd4a5b718",
   "metadata": {},
   "outputs": [],
   "source": [
    "#Q11\n",
    "stud=int(input(\"Press 1 if you are student\"))\n",
    "if stud==1:\n",
    "         is_student=True\n",
    "else:\n",
    "         is_student=False"
   ]
  },
  {
   "cell_type": "code",
   "execution_count": null,
   "id": "e43d092f-58e7-4d48-bae4-1c8ed5b27a1f",
   "metadata": {},
   "outputs": [],
   "source": []
  }
 ],
 "metadata": {
  "kernelspec": {
   "display_name": "Python 3 (ipykernel)",
   "language": "python",
   "name": "python3"
  },
  "language_info": {
   "codemirror_mode": {
    "name": "ipython",
    "version": 3
   },
   "file_extension": ".py",
   "mimetype": "text/x-python",
   "name": "python",
   "nbconvert_exporter": "python",
   "pygments_lexer": "ipython3",
   "version": "3.10.8"
  }
 },
 "nbformat": 4,
 "nbformat_minor": 5
}
